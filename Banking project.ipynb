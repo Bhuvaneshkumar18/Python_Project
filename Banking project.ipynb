{
 "cells": [
  {
   "cell_type": "markdown",
   "metadata": {},
   "source": [
    "# Banking ATM Project"
   ]
  },
  {
   "cell_type": "code",
   "execution_count": 21,
   "metadata": {},
   "outputs": [
    {
     "name": "stdout",
     "output_type": "stream",
     "text": [
      "pls select the input:deposit()|check_bal():jcjd\n",
      "Time: 20:36:29\n",
      "Enter the deposit amount:98787\n",
      "110787\n",
      "enter the name:jhj\n",
      "Are you want to deposit:yes|no:no\n",
      "ok u will not taken the deposit option lets,wait continue\n",
      "Are u want to check the balnce:yes|no:no\n",
      "thanku\n",
      "Enter the amount:100|200|500|2000 notes are avaiable:989\n",
      "wait your transaction your being procesed\n",
      "your total amount is 109798\n",
      "Thanku\n"
     ]
    }
   ],
   "source": [
    "import time\n",
    "class Account(object):\n",
    "    def __init__(self,current_time,main_bal,user):\n",
    "        self.current_time=current_time\n",
    "        self.main_bal=main_bal\n",
    "        self.user=user\n",
    "    select=input('pls select the input:deposit()|check_bal():')\n",
    "        \n",
    "    \n",
    "##DEPOSIT METHOD:\n",
    "\n",
    "    def deposit(self):\n",
    "        self.current_time=current_time\n",
    "        self.user=user\n",
    "        self.main_bal=main_bal\n",
    "        deposits=input('Are you want to deposit:yes|no:')\n",
    "        if deposits=='yes':\n",
    "            deposit_amount=int(input('Enter the deposit amount:'))\n",
    "            total_bal=int(deposit_amount+main_bal)\n",
    "            print('Hello',user,'Sucessfully deposit the amount')\n",
    "            print('Your total balance:',total_bal)\n",
    "        if deposits=='no':\n",
    "                print('ok u will not taken the deposit option lets,wait continue')\n",
    "            \n",
    "###check_balnce in your account:\n",
    "\n",
    "    def check_bal(self):\n",
    "            self.current_time=current_time\n",
    "            self.user=user\n",
    "            self.main_bal=main_bal\n",
    "            balance=input(\"Are u want to check the balnce:yes|no:\")\n",
    "            if balance=='yes':\n",
    "                curr_bal=main_bal\n",
    "                print(curr_bal)\n",
    "            elif balance=='no':\n",
    "                print('thanku')\n",
    "\n",
    "###WITHDRAWL OPTION:      \n",
    "        \n",
    "    def  withdrawl(self):\n",
    "        self.main_bal=main_bal\n",
    "        amt=int(input(\"Enter the amount:100|200|500|2000 notes are avaiable:\"))\n",
    "        if amt<main_bal:\n",
    "            d=main_bal-amt\n",
    "            print('wait your transaction your being procesed')\n",
    "            time.sleep(3)\n",
    "            print('your total amount is',d)\n",
    "        if amt>main_bal:\n",
    "            print('Your Account will be have their Insufficient Balance')\n",
    "            print(\"Thank You\")\n",
    "\n",
    "###Exception Handling using Timeout error:\n",
    "        try:\n",
    "            s= time.sleep(1)\n",
    "            if s==12:\n",
    "                print(timeout)\n",
    "        except (ConnectionError,NameError):\n",
    "            print('Your Process will be timedout')\n",
    "        else:\n",
    "            print(\"Thanku\")\n",
    "\n",
    "s=time.localtime()\n",
    "current_time = time.strftime(\"%H:%M:%S\", s)\n",
    "print(\"Time:\",current_time)\n",
    "main_bal=12000\n",
    "deposit_amount=int(input(\"Enter the deposit amount:\"))\n",
    "main_bal=int(deposit_amount+main_bal)\n",
    "print(main_bal)\n",
    "user=str(input(\"enter the name:\"))\n",
    "d=Account(current_time,main_bal,user)\n",
    "d.deposit()\n",
    "d.check_bal()\n",
    "d.withdrawl()"
   ]
  },
  {
   "cell_type": "code",
   "execution_count": null,
   "metadata": {},
   "outputs": [],
   "source": []
  },
  {
   "cell_type": "code",
   "execution_count": null,
   "metadata": {},
   "outputs": [],
   "source": []
  },
  {
   "cell_type": "code",
   "execution_count": null,
   "metadata": {},
   "outputs": [],
   "source": []
  },
  {
   "cell_type": "code",
   "execution_count": 33,
   "metadata": {},
   "outputs": [
    {
     "name": "stdout",
     "output_type": "stream",
     "text": [
      "Are you want to deposit:yes|no:no\n",
      "ok u will not taken the deposit option lets,wait continue\n",
      "Are u want to check the balnce:yes|no:yes\n"
     ]
    },
    {
     "ename": "NameError",
     "evalue": "name 'deposit_amount' is not defined",
     "output_type": "error",
     "traceback": [
      "\u001b[1;31m---------------------------------------------------------------------------\u001b[0m",
      "\u001b[1;31mNameError\u001b[0m                                 Traceback (most recent call last)",
      "\u001b[1;32m<ipython-input-33-c4083ea162d6>\u001b[0m in \u001b[0;36m<module>\u001b[1;34m\u001b[0m\n\u001b[0;32m     21\u001b[0m         \u001b[0mprint\u001b[0m\u001b[1;33m(\u001b[0m\u001b[1;34m'thanku'\u001b[0m\u001b[1;33m)\u001b[0m\u001b[1;33m\u001b[0m\u001b[1;33m\u001b[0m\u001b[0m\n\u001b[0;32m     22\u001b[0m \u001b[1;33m\u001b[0m\u001b[0m\n\u001b[1;32m---> 23\u001b[1;33m \u001b[0mcheck_bal\u001b[0m\u001b[1;33m(\u001b[0m\u001b[1;33m)\u001b[0m\u001b[1;33m\u001b[0m\u001b[1;33m\u001b[0m\u001b[0m\n\u001b[0m",
      "\u001b[1;32m<ipython-input-33-c4083ea162d6>\u001b[0m in \u001b[0;36mcheck_bal\u001b[1;34m()\u001b[0m\n\u001b[0;32m     16\u001b[0m     \u001b[0mbalance\u001b[0m\u001b[1;33m=\u001b[0m\u001b[0minput\u001b[0m\u001b[1;33m(\u001b[0m\u001b[1;34m\"Are u want to check the balnce:yes|no:\"\u001b[0m\u001b[1;33m)\u001b[0m\u001b[1;33m\u001b[0m\u001b[1;33m\u001b[0m\u001b[0m\n\u001b[0;32m     17\u001b[0m     \u001b[1;32mif\u001b[0m \u001b[0mbalance\u001b[0m\u001b[1;33m==\u001b[0m\u001b[1;34m'yes'\u001b[0m\u001b[1;33m:\u001b[0m\u001b[1;33m\u001b[0m\u001b[1;33m\u001b[0m\u001b[0m\n\u001b[1;32m---> 18\u001b[1;33m         \u001b[0mcurr_bal\u001b[0m\u001b[1;33m=\u001b[0m\u001b[0mmain_bal\u001b[0m\u001b[1;33m+\u001b[0m\u001b[0mdeposit_amount\u001b[0m\u001b[1;33m\u001b[0m\u001b[1;33m\u001b[0m\u001b[0m\n\u001b[0m\u001b[0;32m     19\u001b[0m         \u001b[0mprint\u001b[0m\u001b[1;33m(\u001b[0m\u001b[0mcurr_bal\u001b[0m\u001b[1;33m)\u001b[0m\u001b[1;33m\u001b[0m\u001b[1;33m\u001b[0m\u001b[0m\n\u001b[0;32m     20\u001b[0m     \u001b[1;32melif\u001b[0m \u001b[0mbalance\u001b[0m\u001b[1;33m==\u001b[0m\u001b[1;34m'no'\u001b[0m\u001b[1;33m:\u001b[0m\u001b[1;33m\u001b[0m\u001b[1;33m\u001b[0m\u001b[0m\n",
      "\u001b[1;31mNameError\u001b[0m: name 'deposit_amount' is not defined"
     ]
    }
   ],
   "source": [
    "def deposit():\n",
    "    def can():\n",
    "        deposits=input('Are you want to deposit:yes|no:')\n",
    "        if deposits=='yes':\n",
    "            deposit_amount=int(input('Enter the deposit amount:'))\n",
    "            total_bal=int(deposit_amount+12000)\n",
    "            print('Hello','Sucessfully deposit the amount')\n",
    "            print('Your total balance:',total_bal)\n",
    "        if deposits=='no':\n",
    "                print('ok u will not taken the deposit option lets,wait continue')\n",
    "    can()\n",
    "deposit()\n",
    "\n",
    "def check_bal():\n",
    "    main_bal=12000\n",
    "    balance=input(\"Are u want to check the balnce:yes|no:\")\n",
    "    if balance=='yes':\n",
    "        curr_bal=main_bal+deposit_amount\n",
    "        print(curr_bal)\n",
    "    elif balance=='no':\n",
    "        print('thanku')\n",
    "\n",
    "check_bal()\n"
   ]
  },
  {
   "cell_type": "code",
   "execution_count": null,
   "metadata": {},
   "outputs": [],
   "source": []
  },
  {
   "cell_type": "code",
   "execution_count": null,
   "metadata": {},
   "outputs": [],
   "source": []
  },
  {
   "cell_type": "code",
   "execution_count": null,
   "metadata": {},
   "outputs": [],
   "source": []
  },
  {
   "cell_type": "code",
   "execution_count": 13,
   "metadata": {},
   "outputs": [
    {
     "ename": "SyntaxError",
     "evalue": "invalid syntax (<ipython-input-13-d4da12402fae>, line 1)",
     "output_type": "error",
     "traceback": [
      "\u001b[1;36m  File \u001b[1;32m\"<ipython-input-13-d4da12402fae>\"\u001b[1;36m, line \u001b[1;32m1\u001b[0m\n\u001b[1;33m    if i>1000\u001b[0m\n\u001b[1;37m             ^\u001b[0m\n\u001b[1;31mSyntaxError\u001b[0m\u001b[1;31m:\u001b[0m invalid syntax\n"
     ]
    }
   ],
   "source": [
    "if i>1000\n",
    "    print('they are not eligble')"
   ]
  },
  {
   "cell_type": "code",
   "execution_count": null,
   "metadata": {},
   "outputs": [],
   "source": []
  },
  {
   "cell_type": "code",
   "execution_count": null,
   "metadata": {},
   "outputs": [],
   "source": []
  },
  {
   "cell_type": "code",
   "execution_count": null,
   "metadata": {},
   "outputs": [],
   "source": []
  },
  {
   "cell_type": "code",
   "execution_count": null,
   "metadata": {},
   "outputs": [],
   "source": []
  },
  {
   "cell_type": "code",
   "execution_count": null,
   "metadata": {},
   "outputs": [],
   "source": []
  },
  {
   "cell_type": "code",
   "execution_count": null,
   "metadata": {},
   "outputs": [],
   "source": []
  },
  {
   "cell_type": "code",
   "execution_count": null,
   "metadata": {},
   "outputs": [],
   "source": []
  },
  {
   "cell_type": "code",
   "execution_count": null,
   "metadata": {},
   "outputs": [],
   "source": []
  },
  {
   "cell_type": "code",
   "execution_count": null,
   "metadata": {},
   "outputs": [],
   "source": []
  },
  {
   "cell_type": "code",
   "execution_count": null,
   "metadata": {},
   "outputs": [],
   "source": []
  },
  {
   "cell_type": "code",
   "execution_count": null,
   "metadata": {},
   "outputs": [],
   "source": []
  },
  {
   "cell_type": "code",
   "execution_count": null,
   "metadata": {},
   "outputs": [],
   "source": []
  },
  {
   "cell_type": "code",
   "execution_count": null,
   "metadata": {},
   "outputs": [],
   "source": []
  }
 ],
 "metadata": {
  "kernelspec": {
   "display_name": "Python 3",
   "language": "python",
   "name": "python3"
  },
  "language_info": {
   "codemirror_mode": {
    "name": "ipython",
    "version": 3
   },
   "file_extension": ".py",
   "mimetype": "text/x-python",
   "name": "python",
   "nbconvert_exporter": "python",
   "pygments_lexer": "ipython3",
   "version": "3.8.5"
  }
 },
 "nbformat": 4,
 "nbformat_minor": 4
}
