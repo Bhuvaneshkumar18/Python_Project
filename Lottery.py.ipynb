{
 "cells": [
  {
   "cell_type": "code",
   "execution_count": 1,
   "metadata": {},
   "outputs": [
    {
     "ename": "NameError",
     "evalue": "name 'first' is not defined",
     "output_type": "error",
     "traceback": [
      "\u001b[1;31m---------------------------------------------------------------------------\u001b[0m",
      "\u001b[1;31mNameError\u001b[0m                                 Traceback (most recent call last)",
      "\u001b[1;32m<ipython-input-1-dbf5cb5444a0>\u001b[0m in \u001b[0;36m<module>\u001b[1;34m\u001b[0m\n\u001b[0;32m     11\u001b[0m         \u001b[0mprint\u001b[0m\u001b[1;33m(\u001b[0m\u001b[0mc2\u001b[0m\u001b[1;33m,\u001b[0m\u001b[0mb\u001b[0m\u001b[1;33m,\u001b[0m\u001b[0mc1\u001b[0m\u001b[1;33m,\u001b[0m\u001b[1;34m'\\t'\u001b[0m\u001b[1;33m)\u001b[0m\u001b[1;33m\u001b[0m\u001b[1;33m\u001b[0m\u001b[0m\n\u001b[0;32m     12\u001b[0m         \u001b[0mprint\u001b[0m\u001b[1;33m(\u001b[0m\u001b[1;34m'\\n'\u001b[0m\u001b[1;33m,\u001b[0m\u001b[0mend\u001b[0m\u001b[1;33m=\u001b[0m\u001b[1;34m\"\"\u001b[0m\u001b[1;33m)\u001b[0m\u001b[1;33m\u001b[0m\u001b[1;33m\u001b[0m\u001b[0m\n\u001b[1;32m---> 13\u001b[1;33m \u001b[1;33m@\u001b[0m\u001b[0mfirst\u001b[0m\u001b[1;33m\u001b[0m\u001b[1;33m\u001b[0m\u001b[0m\n\u001b[0m\u001b[0;32m     14\u001b[0m \u001b[1;33m\u001b[0m\u001b[0m\n\u001b[0;32m     15\u001b[0m \u001b[1;31m#second prize:\u001b[0m\u001b[1;33m\u001b[0m\u001b[1;33m\u001b[0m\u001b[1;33m\u001b[0m\u001b[0m\n",
      "\u001b[1;31mNameError\u001b[0m: name 'first' is not defined"
     ]
    }
   ],
   "source": [
    "class winwin:\n",
    "    def first():\n",
    "        import random\n",
    "        data={'WA':'(IRANJIKILADU)','WN':'(PATTAMBI)', 'WO':'(KAYAMKULAM)' ,'WP':'(ADIMALY)','WR':'(THIRUR)','WS':'(THIRUVANANTHAPURAM)', 'WT':'(CHERTHALA)', 'WU':'(KANNUR)','WV':'(KOZHIKKODE)', 'WW' :'(MANANTHAVADY)'}\n",
    "        key=list(data.keys())\n",
    "        print('THE FIRST PRIZE is Rs:7500000-/-:')\n",
    "        n=list(data.values())\n",
    "        c1=random.choice(n)\n",
    "        c2=random.choice(key)\n",
    "        b=random.randint(10001,11000)\n",
    "        print(c2,b,c1,'\\t')\n",
    "        print('\\n',end=\"\")\n",
    "@first\n",
    "              \n",
    "#second prize:\n",
    "def second():\n",
    "        print('\\n','THE SECOND PRIZE Rs:500000-/-:','\\t',end=\" \")\n",
    "        j=random.choice(n)\n",
    "        o=random.choice(key)\n",
    "        print('\\n',o,b,j,'\\t',end='')\n",
    "        print('\\n',end=' ')\n",
    "    \n",
    "    \n",
    "#3rd prize:\n",
    "def third():\n",
    "        print(\"\\n\",'THE 3rd PRIZE IS Rs:100000-/-:',end=\" \")\n",
    "        for i in range(0,10):\n",
    "            a=random.choice(list(data.values()))\n",
    "            h=random.choice(list(data.keys()))\n",
    "            print('\\n',h,b,a)\n",
    "            print('\\n',end=\"\")\n",
    "class Karunya(winwin):\n",
    "    def consolation():\n",
    "        print('THE CONSOLATION PRIZE Rs:8000-/-:')\n",
    "        for i in range(0,10):\n",
    "            print(c2,b,'\\t',end='')\n",
    "        print('\\n')\n",
    "        \n",
    "    def second():\n",
    "        print('\\n','THE SECOND PRIZE Rs:500000-/-:','\\t',end=\" \")\n",
    "        j=random.choice(n)\n",
    "        o=random.choice(key)\n",
    "        print('\\n',o,b,j,'\\t',end='')\n",
    "    print('\\n',end=' ')\n",
    "    \n",
    "    \n",
    "    def fourth():\n",
    "        print('\\n','THE 4th PRIZE Rs5000-/-:',end=\" \")\n",
    "        y=[]\n",
    "        for i in range(0,20):\n",
    "            n=random.randint(500,9999)\n",
    "            y.append(n)\n",
    "            print('\\t',n,end=\" \")\n",
    "        print('\\n',end=\" \")\n",
    "        \n",
    "r=Karunya\n",
    "r.consolation()\n",
    "r.second()\n",
    "r.fourth()\n",
    "\n",
    "class nirmal(winwin,Karunya):\n",
    "    def sixth():\n",
    "        print(\"\\n\",'THE 6th PRIZE Rs1000-/-:')\n",
    "        q=[]\n",
    "        for i in range(0,10):\n",
    "            n=random.randint(1500,7600)\n",
    "            q.append(n)\n",
    "            print(n,'\\t',end=\"\")\n",
    "    print('\\n')     \n",
    "    \n",
    "#7th prize:\n",
    "    def seventh():\n",
    "        a=[]\n",
    "        print(\"\\n\",'THE 7TH PRIZE IS Rs500-/-')\n",
    "        for i in range(0,50):\n",
    "            n=random.randint(100,10000)\n",
    "            a.append(n)\n",
    "            print(n,'\\t',end='')\n",
    "        print('\\t')\n",
    "h=nirmal        \n",
    "h.sixth()\n",
    "h.seventh()"
   ]
  },
  {
   "cell_type": "code",
   "execution_count": 4,
   "metadata": {},
   "outputs": [
    {
     "name": "stdout",
     "output_type": "stream",
     "text": [
      "The first prize is: WP 10634 (THIRUR) \t\n"
     ]
    }
   ],
   "source": [
    "import random\n",
    "data={'WA':'(IRANJIKILADU)','WN':'(PATTAMBI)', 'WO':'(KAYAMKULAM)' ,'WP':'(ADIMALY)','WR':'(THIRUR)','WS':'(THIRUVANANTHAPURAM)', 'WT':'(CHERTHALA)', 'WU':'(KANNUR)','WV':'(KOZHIKKODE)', 'WW' :'(MANANTHAVADY)'}\n",
    "key=list(data.keys())\n",
    "n=list(data.values())\n",
    "c1=random.choice(n)\n",
    "c2=random.choice(key)\n",
    "b=random.randint(10001,11000)\n",
    "print(\"The first prize is:\",c2,b,c1,'\\t')"
   ]
  },
  {
   "cell_type": "code",
   "execution_count": null,
   "metadata": {},
   "outputs": [],
   "source": []
  },
  {
   "cell_type": "code",
   "execution_count": 162,
   "metadata": {},
   "outputs": [
    {
     "name": "stdout",
     "output_type": "stream",
     "text": [
      "\n",
      " THE CONSOLATION PRIZE Rs:8000-/-:\n",
      "WU 10800 \tWU 10800 \tWU 10800 \tWU 10800 \tWU 10800 \tWU 10800 \tWU 10800 \tWU 10800 \tWU 10800 \tWU 10800 \t\n",
      "\n",
      "\n",
      " THE 4th PRIZE Rs5000-/-: \t 3435 \t 1762 \t 2835 \t 5681 \t 3919 \t 1398 \t 3008 \t 9961 \t 5218 \t 6031 \t 9764 \t 1149 \t 5475 \t 5392 \t 9391 \t 1740 \t 5421 \t 6794 \t 8111 \t 5171 \n",
      " "
     ]
    }
   ],
   "source": [
    "class Karunya(winwin):\n",
    "    def consolation():\n",
    "        print('THE CONSOLATION PRIZE Rs:8000-/-:')\n",
    "        for i in range(0,10):\n",
    "            print(c2,b,'\\t',end='')\n",
    "        print('\\n')\n",
    "        \n",
    "    def second():\n",
    "        print('\\n','THE SECOND PRIZE Rs:500000-/-:')\n",
    "        j=random.choice(n)\n",
    "        o=random.choice(key)\n",
    "        print('\\n',o,b,j,'\\t',end='')\n",
    "    print('\\n',end=' ')  \n",
    "    \n",
    "    def fourth():\n",
    "        print('\\n','THE 4th PRIZE Rs5000-/-:',end=\" \")\n",
    "        y=[]\n",
    "        for i in range(0,20):\n",
    "            n=random.randint(500,9999)\n",
    "            y.append(n)\n",
    "            print('\\t',n,end=\" \")\n",
    "        print('\\n',end=\" \")\n",
    "r=Karunya\n",
    "r.consolation()\n",
    "r.fourth()"
   ]
  },
  {
   "cell_type": "code",
   "execution_count": 34,
   "metadata": {},
   "outputs": [
    {
     "name": "stdout",
     "output_type": "stream",
     "text": [
      "THE SECOND PRIZE Rs:500000-/-: \tWP 10978 (CHERTHALA) \t\n"
     ]
    }
   ],
   "source": [
    "#2nd prize:\n",
    "print('THE SECOND PRIZE Rs:500000-/-:','\\t',end='')\n",
    "j=random.choice(n)\n",
    "o=random.choice(key)\n",
    "print(o,b,j,'\\t',end='')\n",
    "print('\\n',end='')"
   ]
  },
  {
   "cell_type": "code",
   "execution_count": 105,
   "metadata": {},
   "outputs": [
    {
     "name": "stdout",
     "output_type": "stream",
     "text": [
      "THE 3rd PRIZE IS Rs:100000-/-:\n",
      "[('WT', 10800, '(PATTAMBI)'), ('WS', 10800, '(PATTAMBI)'), ('WW', 10800, '(IRANJIKILADU)'), ('WT', 10800, '(KOZHIKKODE)'), ('WP', 10800, '(KOZHIKKODE)'), ('WT', 10800, '(KANNUR)'), ('WA', 10800, '(KAYAMKULAM)'), ('WV', 10800, '(PATTAMBI)'), ('WV', 10800, '(THIRUVANANTHAPURAM)'), ('WR', 10800, '(MANANTHAVADY)')]\n"
     ]
    }
   ],
   "source": [
    "#3rd prize:\n",
    "print('THE 3rd PRIZE IS Rs:100000-/-:')\n",
    "prize3=[]\n",
    "for i in range(0,10):\n",
    "    a=random.choice(list(data.values()))\n",
    "    h=random.choice(list(data.keys()))\n",
    "    s=h,b,a\n",
    "    prize3.append(s)\n",
    "print(prize3)"
   ]
  },
  {
   "cell_type": "code",
   "execution_count": 41,
   "metadata": {},
   "outputs": [
    {
     "name": "stdout",
     "output_type": "stream",
     "text": [
      "rt 1082 (ernakulam)\n"
     ]
    }
   ],
   "source": []
  },
  {
   "cell_type": "code",
   "execution_count": 130,
   "metadata": {},
   "outputs": [
    {
     "name": "stdout",
     "output_type": "stream",
     "text": [
      "THE 4th PRIZE Rs5000-/-: \n",
      "\n",
      "1024 \t6263 \t8537 \t2952 \t1603 \t1346 \t3137 \t6387 \t4810 \t9307 \t5794 \t2283 \t6234 \t592 \t8933 \t6610 \t9128 \t3435 \t1135 \t8331 \t\n",
      "\n"
     ]
    }
   ],
   "source": [
    "class \n",
    "def fourth():\n",
    "    print('THE 4th PRIZE Rs5000-/-:','\\n')\n",
    "    y=[]\n",
    "    for i in range(0,20):\n",
    "        n=random.randint(500,9999)\n",
    "        y.append(n)\n",
    "        print(n,'\\t',end='')\n",
    "    print('\\n')\n",
    "fourth()"
   ]
  },
  {
   "cell_type": "code",
   "execution_count": 7,
   "metadata": {},
   "outputs": [
    {
     "name": "stdout",
     "output_type": "stream",
     "text": [
      "THE 5th PRIZE Rs2000-/-: \n",
      "\n",
      "2304 \t5381 \t2490 \t7343 \t845 \t5565 \t3385 \t5415 \t7481 \t1849 \t1851 \t4015 \t\n",
      "\n"
     ]
    }
   ],
   "source": [
    "def fifth():\n",
    "    print('THE 5th PRIZE Rs2000-/-:','\\n')\n",
    "    for i in range(0,12):\n",
    "        n=random.randint(500,7500)\n",
    "        print(n,'\\t',end=\"\")\n",
    "    print('\\n')\n",
    "fifth()"
   ]
  },
  {
   "cell_type": "code",
   "execution_count": 172,
   "metadata": {},
   "outputs": [
    {
     "name": "stdout",
     "output_type": "stream",
     "text": [
      "\n",
      "\n"
     ]
    },
    {
     "ename": "TypeError",
     "evalue": "Cannot create a consistent method resolution\norder (MRO) for bases winwin, Karunya",
     "output_type": "error",
     "traceback": [
      "\u001b[1;31m---------------------------------------------------------------------------\u001b[0m",
      "\u001b[1;31mTypeError\u001b[0m                                 Traceback (most recent call last)",
      "\u001b[1;32m<ipython-input-172-716fa995ad44>\u001b[0m in \u001b[0;36m<module>\u001b[1;34m\u001b[0m\n\u001b[1;32m----> 1\u001b[1;33m \u001b[1;32mclass\u001b[0m \u001b[0mnirmal\u001b[0m\u001b[1;33m(\u001b[0m\u001b[0mwinwin\u001b[0m\u001b[1;33m,\u001b[0m\u001b[0mKarunya\u001b[0m\u001b[1;33m)\u001b[0m\u001b[1;33m:\u001b[0m\u001b[1;33m\u001b[0m\u001b[1;33m\u001b[0m\u001b[0m\n\u001b[0m\u001b[0;32m      2\u001b[0m     \u001b[1;32mdef\u001b[0m \u001b[0msixth\u001b[0m\u001b[1;33m(\u001b[0m\u001b[1;33m)\u001b[0m\u001b[1;33m:\u001b[0m\u001b[1;33m\u001b[0m\u001b[1;33m\u001b[0m\u001b[0m\n\u001b[0;32m      3\u001b[0m         \u001b[0mprint\u001b[0m\u001b[1;33m(\u001b[0m\u001b[1;34m\"\\n\"\u001b[0m\u001b[1;33m,\u001b[0m\u001b[1;34m'THE 6th PRIZE Rs1000-/-:'\u001b[0m\u001b[1;33m)\u001b[0m\u001b[1;33m\u001b[0m\u001b[1;33m\u001b[0m\u001b[0m\n\u001b[0;32m      4\u001b[0m         \u001b[0mq\u001b[0m\u001b[1;33m=\u001b[0m\u001b[1;33m[\u001b[0m\u001b[1;33m]\u001b[0m\u001b[1;33m\u001b[0m\u001b[1;33m\u001b[0m\u001b[0m\n\u001b[0;32m      5\u001b[0m         \u001b[1;32mfor\u001b[0m \u001b[0mi\u001b[0m \u001b[1;32min\u001b[0m \u001b[0mrange\u001b[0m\u001b[1;33m(\u001b[0m\u001b[1;36m0\u001b[0m\u001b[1;33m,\u001b[0m\u001b[1;36m10\u001b[0m\u001b[1;33m)\u001b[0m\u001b[1;33m:\u001b[0m\u001b[1;33m\u001b[0m\u001b[1;33m\u001b[0m\u001b[0m\n",
      "\u001b[1;31mTypeError\u001b[0m: Cannot create a consistent method resolution\norder (MRO) for bases winwin, Karunya"
     ]
    }
   ],
   "source": [
    "class nirmal(winwin,Karunya):\n",
    "    def sixth():\n",
    "        print(\"\\n\",'THE 6th PRIZE Rs1000-/-:')\n",
    "        q=[]\n",
    "        for i in range(0,10):\n",
    "            n=random.randint(1500,7600)\n",
    "            q.append(n)\n",
    "            print(n,'\\t',end=\"\")\n",
    "    print('\\n')     \n",
    "    \n",
    "#7th prize:\n",
    "    def seventh():\n",
    "        a=[]\n",
    "        print(\"\\n\",'THE 7TH PRIZE IS Rs500-/-')\n",
    "        for i in range(0,50):\n",
    "            n=random.randint(100,10000)\n",
    "            a.append(n)\n",
    "            print(n,'\\t',end='')\n",
    "        print('\\t')\n",
    "h=nirmal        \n",
    "h.sixth()\n",
    "h.seventh()"
   ]
  },
  {
   "cell_type": "code",
   "execution_count": null,
   "metadata": {},
   "outputs": [],
   "source": []
  },
  {
   "cell_type": "code",
   "execution_count": 1,
   "metadata": {
    "scrolled": false
   },
   "outputs": [
    {
     "name": "stdout",
     "output_type": "stream",
     "text": [
      "THE FIRST PRIZE is Rs7500000-/-:\n",
      "WT 10254 (THIRUVANANTHAPURAM) \t\n",
      "\n",
      "\n",
      "THE CONSOLATION PRIZE Rs:8000-/-:\n",
      "WO 10826 \tWP 10311 \tWO 10494 \tWN 10383 \tWP 10850 \tWR 10014 \tWR 10466 \tWT 10774 \tWU 10214 \tWN 10319 \t\n",
      "\n",
      "THE SECOND PRIZE Rs:500000-/-: \tWO 10637 (THIRUVANANTHAPURAM) \t\n",
      "\n",
      "\n",
      "THE 3rd PRIZE IS Rs:100000-/-:\n",
      "WS 10984 (IRANJIKILADU)\n",
      "WT 10178 (THIRUVANANTHAPURAM)\n",
      "WW 10324 (IRANJIKILADU)\n",
      "WU 10292 (THIRUR)\n",
      "WV 10516 (KANNUR)\n",
      "WN 10278 (KAYAMKULAM)\n",
      "WN 10616 (ADIMALY)\n",
      "WT 10852 (ADIMALY)\n",
      "WT 10413 (IRANJIKILADU)\n",
      "WP 10614 (CHERTHALA)\n",
      "\n",
      "\n",
      "FOR THE TICKETS ENDING WITH THE FOLLOWING NUMBERS FOR THE TICKETS ENDING WITH THE FOLLOWING NUMBERS: \n",
      "THE 4th PRIZE Rs5000-/-: \n",
      "\n",
      "6737 \t2074 \t1332 \t9269 \t8428 \t8900 \t2499 \t6703 \t2393 \t7304 \t5695 \t1136 \t1866 \t5532 \t9100 \t7629 \t9008 \t6715 \t2212 \t8924 \t\n",
      "\n",
      "THE 5th PRIZE Rs2000-/-: \n",
      "\n",
      "5162 \t1451 \t2546 \t5496 \t608 \t2043 \t2581 \t1367 \t4590 \t698 \t6501 \t2031 \t\n",
      "\n",
      "THE 6th PRIZE Rs1000-/-:\n",
      "2300 \t7197 \t4160 \t4617 \t6579 \t5457 \t2819 \t4768 \t2220 \t1848 \t\n",
      "\n",
      "THE 7TH PRIZE IS Rs500-/- \n",
      "\n",
      "6805 \t3228 \t9431 \t6443 \t2436 \t6588 \t5868 \t8225 \t8952 \t8963 \t5271 \t5146 \t8037 \t2473 \t2167 \t4123 \t7457 \t2093 \t9551 \t6454 \t147 \t3450 \t5940 \t9904 \t2772 \t4364 \t5401 \t6911 \t9767 \t914 \t1933 \t9397 \t7412 \t1076 \t1223 \t3579 \t9861 \t1323 \t1281 \t6818 \t853 \t2703 \t7670 \t3966 \t6272 \t4264 \t3510 \t1572 \t3194 \t168 \t\t\n"
     ]
    }
   ],
   "source": [
    "#1st prize:\n",
    "\n",
    "import random\n",
    "data={'WA':'(IRANJIKILADU)','WN':'(PATTAMBI)', 'WO':'(KAYAMKULAM)' ,'WP':'(ADIMALY)','WR':'(THIRUR)','WS':'(THIRUVANANTHAPURAM)', 'WT':'(CHERTHALA)', 'WU':'(KANNUR)','WV':'(KOZHIKKODE)', 'WW' :'(MANANTHAVADY)'}\n",
    "s=list(data.keys())\n",
    "t=list(data.items())\n",
    "print('THE FIRST PRIZE is Rs7500000-/-:')\n",
    "n=list(data.values())\n",
    "p=random.choice(n)\n",
    "a=random.choice(s)\n",
    "b=random.randint(10001,11000)\n",
    "print(a,b,p,'\\t')\n",
    "print('\\n')\n",
    "\n",
    "\n",
    "\n",
    "#consolation prize:\n",
    "print('THE CONSOLATION PRIZE Rs:8000-/-:')\n",
    "for i in range(0,10):\n",
    "    n=random.randint(10001,11000)\n",
    "    k=random.choice(list(data.keys()))\n",
    "    print(k,n,'\\t',end='')\n",
    "print('\\n')\n",
    "\n",
    "\n",
    "#2nd prize:\n",
    "print('THE SECOND PRIZE Rs:500000-/-:','\\t',end='')\n",
    "n=list(data.values())\n",
    "j=random.choice(n)\n",
    "o=random.choice(s)\n",
    "b=random.randint(10001,11000)\n",
    "print(o,b,j,'\\t',end='')\n",
    "print('\\n',end='')\n",
    "print('\\n')\n",
    "\n",
    "\n",
    "#3rd prize:\n",
    "print('THE 3rd PRIZE IS Rs:100000-/-:')\n",
    "for i in range(0,10):\n",
    "    n=random.randint(10001,11000)\n",
    "    a=random.choice(list(data.values()))\n",
    "    h=random.choice(list(data.keys()))\n",
    "    print(h,n,a)\n",
    "print('\\n')\n",
    "    \n",
    "#4th prize:\n",
    "print(\"FOR THE TICKETS ENDING WITH THE FOLLOWING NUMBERS FOR THE TICKETS ENDING WITH THE FOLLOWING NUMBERS: \")\n",
    "\n",
    "print('THE 4th PRIZE Rs5000-/-:','\\n')\n",
    "y=[]\n",
    "for i in range(0,20):\n",
    "    n=random.randint(500,9999)\n",
    "    y.append(n)\n",
    "    print(n,'\\t',end='')\n",
    "print('\\n')\n",
    "    \n",
    "    \n",
    "#5th prize:\n",
    "print('THE 5th PRIZE Rs2000-/-:','\\n')\n",
    "k=[]\n",
    "for i in range(0,12):\n",
    "    n=random.randint(500,7500)\n",
    "    k.append(n)\n",
    "    print(n,'\\t',end=\"\")\n",
    "    if k!=y:\n",
    "        continue\n",
    "print('\\n')\n",
    "    \n",
    "    \n",
    "#6th prize:\n",
    "print('THE 6th PRIZE Rs1000-/-:')\n",
    "q=[]\n",
    "for i in range(0,10):\n",
    "    n=random.randint(1500,7600)\n",
    "    q.append(n)\n",
    "    print(n,'\\t',end=\"\")\n",
    "    if k!=y or q!=y:\n",
    "        continue\n",
    "print('\\n')\n",
    "    \n",
    "    \n",
    "    \n",
    "#7th prize:\n",
    "a=[]\n",
    "print('THE 7TH PRIZE IS Rs500-/-','\\n')\n",
    "for i in range(0,50):\n",
    "    n=random.randint(100,10000)\n",
    "    a.append(n)\n",
    "    print(n,'\\t',end='')\n",
    "    if k!=y or q!=y or a!=y:\n",
    "        continue\n",
    "print('\\t')"
   ]
  },
  {
   "cell_type": "code",
   "execution_count": 178,
   "metadata": {},
   "outputs": [
    {
     "name": "stdout",
     "output_type": "stream",
     "text": [
      "The consolation prize Rs:8000:\n",
      "WA 14200 \t\n",
      "WW 11518 \t\n",
      "WO 13138 \t\n",
      "WT 12119 \t\n",
      "WS 13081 \t\n",
      "WV 14944 \t\n",
      "WP 11128 \t\n",
      "WN 14332 \t\n",
      "WP 11925 \t\n",
      "WU 14614 \t\n"
     ]
    }
   ],
   "source": [
    "#consolation prize:\n",
    "print('The consolation prize Rs:8000:')\n",
    "for i in range(0,10):\n",
    "    n=random.randint(11000,15009)\n",
    "    k=random.choice(list(data.keys()))\n",
    "    print(k,n,'\\t')"
   ]
  },
  {
   "cell_type": "code",
   "execution_count": 72,
   "metadata": {},
   "outputs": [
    {
     "name": "stdout",
     "output_type": "stream",
     "text": [
      "The second prize Rs:500000\n",
      "WP 22994 (KAYAMKULAM)\n"
     ]
    }
   ],
   "source": [
    "#2nd prize:\n",
    "\n",
    "n=list(data.values())\n",
    "j=random.choice(n)\n",
    "o=random.choice(s)\n",
    "b=random.randint(11000,23000)\n",
    "print('The second prize Rs:500000')\n",
    "print(o,b,j)"
   ]
  },
  {
   "cell_type": "code",
   "execution_count": 171,
   "metadata": {},
   "outputs": [
    {
     "name": "stdout",
     "output_type": "stream",
     "text": [
      "The 3rd prize is Rs:100000:\n",
      "WT 14998 (CHERTHALA)\n",
      "WO 11187 (THIRUR)\n",
      "WA 11622 (PATTAMBI)\n",
      "WN 11619 (CHERTHALA)\n",
      "WW 10139 (PATTAMBI)\n",
      "WR 10562 (KOZHIKKODE)\n",
      "WW 12864 (THIRUR)\n",
      "WA 15121 (KOZHIKKODE)\n",
      "WT 10747 (ADIMALY)\n",
      "WP 11134 (KAYAMKULAM)\n"
     ]
    }
   ],
   "source": [
    "#3rd prize:\n",
    "print('The 3rd prize is Rs:100000:')\n",
    "for i in range(0,10):\n",
    "    n=random.randint(10000,15600)\n",
    "    a=random.choice(list(data.values()))\n",
    "    h=random.choice(list(data.keys()))\n",
    "    print(h,n,a)"
   ]
  },
  {
   "cell_type": "code",
   "execution_count": 199,
   "metadata": {},
   "outputs": [
    {
     "name": "stdout",
     "output_type": "stream",
     "text": [
      "FOR THE TICKETS ENDING WITH THE FOLLOWING NUMBERS FOR THE TICKETS ENDING WITH THE FOLLOWING NUMBERS: \n",
      "the 4th prize Rs5000: \n",
      "\n",
      "9751 \t7017 \t2008 \t1904 \t3134 \t6043 \t7699 \t8641 \t9775 \t8478 \t9027 \t5093 \t5959 \t2050 \t7762 \t7516 \t5932 \t5775 \t4743 \t1497 \t"
     ]
    }
   ],
   "source": [
    "#4th prize:\n",
    "print(\"FOR THE TICKETS ENDING WITH THE FOLLOWING NUMBERS FOR THE TICKETS ENDING WITH THE FOLLOWING NUMBERS: \")\n",
    "\n",
    "print('the 4th prize Rs5000:','\\n')\n",
    "y=[]\n",
    "for i in range(0,20):\n",
    "    n=random.randint(500,9999)\n",
    "    y.append(n)\n",
    "    print(n,'\\t',end='')"
   ]
  },
  {
   "cell_type": "code",
   "execution_count": 60,
   "metadata": {},
   "outputs": [
    {
     "name": "stdout",
     "output_type": "stream",
     "text": [
      "The 5th prize Rs2000:\n",
      "4052 \t7012 \t2498 \t6703 \t2640 \t6724 \t3422 \t4125 \t4956 \t4812 \t4936 \t7385 \t"
     ]
    }
   ],
   "source": [
    "#5th prize:\n",
    "\n",
    "print('The 5th prize Rs2000:')\n",
    "k=[]\n",
    "for i in range(0,12):\n",
    "    n=random.randint(1500,7500)\n",
    "    k.append(n)\n",
    "    print(n,'\\t',end=\"\")\n",
    "    if k!=y:\n",
    "        continue\n"
   ]
  },
  {
   "cell_type": "code",
   "execution_count": 66,
   "metadata": {},
   "outputs": [
    {
     "name": "stdout",
     "output_type": "stream",
     "text": [
      "the 6th prize Rs1000:\n",
      "2448 \t6926 \t3098 \t4296 \t1648 \t4788 \t3960 \t7056 \t6828 \t4829 \t"
     ]
    }
   ],
   "source": [
    "#6th prize:\n",
    "print('the 6th prize Rs1000:')\n",
    "q=[]\n",
    "for i in range(0,10):\n",
    "    n=random.randint(1500,7600)\n",
    "    q.append(n)\n",
    "    print(n,'\\t',end=\"\")\n",
    "    if k!=y or q!=y:\n",
    "        continue"
   ]
  },
  {
   "cell_type": "code",
   "execution_count": 70,
   "metadata": {},
   "outputs": [
    {
     "name": "stdout",
     "output_type": "stream",
     "text": [
      "THE 7TH PRIZE IS Rs500:\n",
      "\t 3636 \t\t 9728 \t\t 9027 \t\t 4270 \t\t 1765 \t\t 1682 \t\t 9277 \t\t 242 \t\t 7159 \t\t 8542 \t\t 1092 \t\t 4279 \t\t 3807 \t\t 1861 \t\t 6852 \t\t 7238 \t\t 8078 \t\t 2999 \t\t 4793 \t\t 5777 \t\t 4809 \t\t 1423 \t\t 1300 \t\t 8629 \t\t 6069 \t\t 8403 \t\t 8633 \t\t 4685 \t\t 1436 \t\t 258 \t\t 1902 \t\t 4492 \t\t 7521 \t\t 8126 \t\t 1475 \t\t 8982 \t\t 5366 \t\t 6725 \t\t 7801 \t\t 7575 \t\t 1241 \t\t 6362 \t\t 1426 \t\t 7670 \t\t 8410 \t\t 6179 \t\t 7501 \t\t 3353 \t\t 6830 \t\t 4965 \t"
     ]
    }
   ],
   "source": [
    "#7th prize:\n",
    "print('THE 7TH PRIZE IS Rs500:')\n",
    "a=[]\n",
    "for i in range(0,50):\n",
    "    n=random.randint(100,10000)\n",
    "    a.append(n)\n",
    "    print('\\t',n,'\\t',end='')\n",
    "    if k!=y or q!=y or a!=y:\n",
    "        continue"
   ]
  },
  {
   "cell_type": "code",
   "execution_count": 35,
   "metadata": {},
   "outputs": [
    {
     "name": "stdout",
     "output_type": "stream",
     "text": [
      "The second prize Rs:500000:WU 13550 (THIRUR) \n",
      "\n"
     ]
    }
   ],
   "source": [
    "#2nd prize:\n",
    "print('The second prize Rs:500000:',end='')\n",
    "n=list(data.values())\n",
    "j=random.choice(n)\n",
    "o=random.choice(s)\n",
    "b=random.randint(11000,23000)\n",
    "print(o,b,j,'\\n')"
   ]
  },
  {
   "cell_type": "code",
   "execution_count": 14,
   "metadata": {},
   "outputs": [
    {
     "name": "stdout",
     "output_type": "stream",
     "text": [
      "hello welcomw to the page\n",
      "Thanku\n",
      "welcome to th\n"
     ]
    }
   ],
   "source": [
    "def c1(func):\n",
    "    def total():\n",
    "        print(\"hello welcomw to the page\")\n",
    "        func()\n",
    "        print(\"welcome to th\")\n",
    "    return total\n",
    "@c1\n",
    "def t1():\n",
    "    print(\"Thanku\")\n",
    "t1()"
   ]
  },
  {
   "cell_type": "code",
   "execution_count": 15,
   "metadata": {},
   "outputs": [
    {
     "name": "stdout",
     "output_type": "stream",
     "text": [
      "hello guys\n",
      "thanku  for ur support\n",
      "welcom to the page\n"
     ]
    }
   ],
   "source": [
    "def c1(func):\n",
    "    def html():\n",
    "        print(\"hello guys\")\n",
    "        func()\n",
    "        print(\"welcom to the page\")\n",
    "    return html\n",
    "@c1\n",
    "def t2():\n",
    "    print(\"thanku  for ur support\")\n",
    "t2()"
   ]
  },
  {
   "cell_type": "code",
   "execution_count": 34,
   "metadata": {},
   "outputs": [
    {
     "ename": "AttributeError",
     "evalue": "'function' object has no attribute 'inner'",
     "output_type": "error",
     "traceback": [
      "\u001b[1;31m---------------------------------------------------------------------------\u001b[0m",
      "\u001b[1;31mAttributeError\u001b[0m                            Traceback (most recent call last)",
      "\u001b[1;32m<ipython-input-34-c4a856fb71ea>\u001b[0m in \u001b[0;36m<module>\u001b[1;34m\u001b[0m\n\u001b[0;32m     10\u001b[0m         \u001b[1;32mreturn\u001b[0m \u001b[0minner\u001b[0m\u001b[1;33m\u001b[0m\u001b[1;33m\u001b[0m\u001b[0m\n\u001b[0;32m     11\u001b[0m \u001b[0mf\u001b[0m\u001b[1;33m=\u001b[0m\u001b[0mwinwin\u001b[0m\u001b[1;33m\u001b[0m\u001b[1;33m\u001b[0m\u001b[0m\n\u001b[1;32m---> 12\u001b[1;33m \u001b[0mf\u001b[0m\u001b[1;33m.\u001b[0m\u001b[0minner\u001b[0m\u001b[1;33m(\u001b[0m\u001b[1;33m)\u001b[0m\u001b[1;33m\u001b[0m\u001b[1;33m\u001b[0m\u001b[0m\n\u001b[0m",
      "\u001b[1;31mAttributeError\u001b[0m: 'function' object has no attribute 'inner'"
     ]
    }
   ],
   "source": [
    "def winwin(func):\n",
    "    def inner():\n",
    "        print(\"welcom eto the kerala lottery\")\n",
    "        func()\n",
    "        return inner\n",
    "    \n",
    "def local():\n",
    "    def inner():\n",
    "        print(\"address\")\n",
    "        return inner\n",
    "f=winwin\n",
    "f.inner()"
   ]
  },
  {
   "cell_type": "code",
   "execution_count": null,
   "metadata": {},
   "outputs": [],
   "source": []
  },
  {
   "cell_type": "code",
   "execution_count": null,
   "metadata": {},
   "outputs": [],
   "source": []
  },
  {
   "cell_type": "code",
   "execution_count": null,
   "metadata": {},
   "outputs": [],
   "source": []
  }
 ],
 "metadata": {
  "kernelspec": {
   "display_name": "Python 3",
   "language": "python",
   "name": "python3"
  },
  "language_info": {
   "codemirror_mode": {
    "name": "ipython",
    "version": 3
   },
   "file_extension": ".py",
   "mimetype": "text/x-python",
   "name": "python",
   "nbconvert_exporter": "python",
   "pygments_lexer": "ipython3",
   "version": "3.8.5"
  }
 },
 "nbformat": 4,
 "nbformat_minor": 4
}
